{
 "cells": [
  {
   "cell_type": "code",
   "execution_count": null,
   "metadata": {},
   "outputs": [],
   "source": [
    "# default_exp card"
   ]
  },
  {
   "cell_type": "markdown",
   "metadata": {},
   "source": [
    "# DECK OF CARDS "
   ]
  },
  {
   "cell_type": "markdown",
   "metadata": {},
   "source": [
    "\"\"\"This module contains a code example related to\n",
    "Think Python, 2nd Edition\n",
    "by Allen Downey\n",
    "http://thinkpython2.com\n",
    "Copyright 2015 Allen Downey\n",
    "License: http://creativecommons.org/licenses/by/4.0/\n",
    "\"\"\""
   ]
  },
  {
   "cell_type": "code",
   "execution_count": null,
   "metadata": {},
   "outputs": [],
   "source": [
    "#hide\n",
    "# Code slightly modified to test NBDEV"
   ]
  },
  {
   "cell_type": "code",
   "execution_count": null,
   "metadata": {},
   "outputs": [],
   "source": [
    "#hide\n",
    "from nbdev.showdoc import *"
   ]
  },
  {
   "cell_type": "code",
   "execution_count": null,
   "metadata": {},
   "outputs": [
    {
     "data": {
      "text/plain": [
       "'This module contains a code example related to\\nThink Python, 2nd Edition\\nby Allen Downey\\nhttp://thinkpython2.com\\nCopyright 2015 Allen Downey\\nLicense: http://creativecommons.org/licenses/by/4.0/\\n'"
      ]
     },
     "execution_count": null,
     "metadata": {},
     "output_type": "execute_result"
    }
   ],
   "source": [
    "#hide\n",
    "\"\"\"This module contains a code example related to\n",
    "Think Python, 2nd Edition\n",
    "by Allen Downey\n",
    "http://thinkpython2.com\n",
    "Copyright 2015 Allen Downey\n",
    "License: http://creativecommons.org/licenses/by/4.0/\n",
    "\"\"\""
   ]
  },
  {
   "cell_type": "code",
   "execution_count": null,
   "metadata": {},
   "outputs": [],
   "source": [
    "#export\n",
    "from __future__ import print_function, division\n",
    "import random\n",
    "\n",
    "class Card:\n",
    "    \"\"\"Represents a standard playing card.\n",
    "    \n",
    "    Attributes:\n",
    "      suit: integer 0-3\n",
    "      rank: integer 1-13\n",
    "    \"\"\"\n",
    "\n",
    "    suit_names = [\"Clubs\", \"Diamonds\", \"Hearts\", \"Spades\"]\n",
    "    rank_names = [None, \"Ace\", \"2\", \"3\", \"4\", \"5\", \"6\", \"7\", \n",
    "              \"8\", \"9\", \"10\", \"Jack\", \"Queen\", \"King\"]\n",
    "\n",
    "    def __init__(self, suit=0, rank=2):\n",
    "        self.suit = suit\n",
    "        self.rank = rank\n",
    "\n",
    "    def __str__(self):\n",
    "        \"\"\"Returns a human-readable string representation.\"\"\"\n",
    "        return '%s of %s' % (Card.rank_names[self.rank],\n",
    "                             Card.suit_names[self.suit])\n",
    "\n",
    "    def __eq__(self, other):\n",
    "        \"\"\"Checks whether self and other have the same rank and suit.\n",
    "        returns: boolean\n",
    "        \"\"\"\n",
    "        return self.suit == other.suit and self.rank == other.rank\n",
    "\n",
    "    def __lt__(self, other):\n",
    "        \"\"\"Compares this card to other, first by suit, then rank.\n",
    "        returns: boolean\n",
    "        \"\"\"\n",
    "        t1 = self.suit, self.rank\n",
    "        t2 = other.suit, other.rank\n",
    "        return t1 < t2"
   ]
  },
  {
   "cell_type": "code",
   "execution_count": null,
   "metadata": {},
   "outputs": [
    {
     "name": "stdout",
     "output_type": "stream",
     "text": [
      "10 of Clubs\n",
      "Jack of Diamonds\n",
      "Queen of Hearts\n",
      "King of Spades\n",
      "Ace of Clubs\n"
     ]
    }
   ],
   "source": [
    "# how to create individual cards\n",
    "ten = Card(suit=0, rank=10)\n",
    "jack = Card(suit=1, rank=11)\n",
    "queen = Card(suit=2, rank=12)\n",
    "king = Card(suit=3, rank=13)\n",
    "ace = Card(suit=0, rank=1)\n",
    "print(ten)\n",
    "print(jack)\n",
    "print(queen)\n",
    "print(king)\n",
    "print(ace)"
   ]
  },
  {
   "cell_type": "code",
   "execution_count": null,
   "metadata": {},
   "outputs": [],
   "source": [
    "#export\n",
    "class Deck:\n",
    "    \"\"\"Represents a deck of cards.\n",
    "    Attributes:\n",
    "      cards: list of Card objects.\n",
    "    \"\"\"\n",
    "    \n",
    "    def __init__(self):\n",
    "        \"\"\"Initializes the Deck with 52 cards.\n",
    "        \"\"\"\n",
    "        self.cards = []\n",
    "        for suit in range(4):\n",
    "            for rank in range(1, 14):\n",
    "                card = Card(suit, rank)\n",
    "                self.cards.append(card)\n",
    "                \n",
    "    def __len__(self):\n",
    "        \"\"\"Returns the number of cards in the deck.\n",
    "        \"\"\"\n",
    "        return len(self.cards)\n",
    "        \n",
    "    def __str__(self):\n",
    "        \"\"\"Returns a string representation of the deck.\n",
    "        \"\"\"\n",
    "        res = []\n",
    "        for card in self.cards:\n",
    "            res.append(str(card))\n",
    "        return '\\n'.join(res)\n",
    "\n",
    "    def add_card(self, card):\n",
    "        \"\"\"Adds a card to the deck.\n",
    "        card: Card\n",
    "        \"\"\"\n",
    "        self.cards.append(card)\n",
    "\n",
    "    def remove_card(self, card):\n",
    "        \"\"\"Removes a card from the deck or raises exception if it is not there.\n",
    "        \n",
    "        card: Card\n",
    "        \"\"\"\n",
    "        self.cards.remove(card)\n",
    "\n",
    "    def pop_card(self, i=-1):\n",
    "        \"\"\"Removes and returns a card from the deck.\n",
    "        i: index of the card to pop; by default, pops the last card.\n",
    "        \"\"\"\n",
    "        return self.cards.pop(i)\n",
    "\n",
    "    def shuffle(self):\n",
    "        \"\"\"Shuffles the cards in this deck.\"\"\"\n",
    "        random.shuffle(self.cards)\n",
    "\n",
    "    def sort(self):\n",
    "        \"\"\"Sorts the cards in ascending order.\"\"\"\n",
    "        self.cards.sort()\n",
    "\n",
    "    def move_cards(self, hand, num):\n",
    "        \"\"\"Moves the given number of cards from the deck into the Hand.\n",
    "        hand: destination Hand object\n",
    "        num: integer number of cards to move\n",
    "        \"\"\"\n",
    "        for i in range(num):\n",
    "            hand.add_card(self.pop_card())\n",
    "            \n",
    "    def size(self):\n",
    "        \"\"\"Returns the num,ber of cards in the hand.\"\"\"\n",
    "        return len(self.cards)"
   ]
  },
  {
   "cell_type": "code",
   "execution_count": null,
   "metadata": {},
   "outputs": [
    {
     "data": {
      "text/markdown": [
       "<h4 id=\"Deck.add_card\" class=\"doc_header\"><code>Deck.add_card</code><a href=\"__main__.py#L30\" class=\"source_link\" style=\"float:right\">[source]</a></h4>\n",
       "\n",
       "> <code>Deck.add_card</code>(**`card`**)\n",
       "\n",
       "Adds a card to the deck.\n",
       "card: Card"
      ],
      "text/plain": [
       "<IPython.core.display.Markdown object>"
      ]
     },
     "metadata": {},
     "output_type": "display_data"
    },
    {
     "data": {
      "text/markdown": [
       "<h4 id=\"Deck.remove_card\" class=\"doc_header\"><code>Deck.remove_card</code><a href=\"__main__.py#L36\" class=\"source_link\" style=\"float:right\">[source]</a></h4>\n",
       "\n",
       "> <code>Deck.remove_card</code>(**`card`**)\n",
       "\n",
       "Removes a card from the deck or raises exception if it is not there.\n",
       "\n",
       "card: Card"
      ],
      "text/plain": [
       "<IPython.core.display.Markdown object>"
      ]
     },
     "metadata": {},
     "output_type": "display_data"
    },
    {
     "data": {
      "text/markdown": [
       "<h4 id=\"Deck.pop_card\" class=\"doc_header\"><code>Deck.pop_card</code><a href=\"__main__.py#L43\" class=\"source_link\" style=\"float:right\">[source]</a></h4>\n",
       "\n",
       "> <code>Deck.pop_card</code>(**`i`**=*`-1`*)\n",
       "\n",
       "Removes and returns a card from the deck.\n",
       "i: index of the card to pop; by default, pops the last card."
      ],
      "text/plain": [
       "<IPython.core.display.Markdown object>"
      ]
     },
     "metadata": {},
     "output_type": "display_data"
    },
    {
     "data": {
      "text/markdown": [
       "<h4 id=\"Deck.shuffle\" class=\"doc_header\"><code>Deck.shuffle</code><a href=\"__main__.py#L49\" class=\"source_link\" style=\"float:right\">[source]</a></h4>\n",
       "\n",
       "> <code>Deck.shuffle</code>()\n",
       "\n",
       "Shuffles the cards in this deck."
      ],
      "text/plain": [
       "<IPython.core.display.Markdown object>"
      ]
     },
     "metadata": {},
     "output_type": "display_data"
    },
    {
     "data": {
      "text/markdown": [
       "<h4 id=\"Deck.sort\" class=\"doc_header\"><code>Deck.sort</code><a href=\"__main__.py#L53\" class=\"source_link\" style=\"float:right\">[source]</a></h4>\n",
       "\n",
       "> <code>Deck.sort</code>()\n",
       "\n",
       "Sorts the cards in ascending order."
      ],
      "text/plain": [
       "<IPython.core.display.Markdown object>"
      ]
     },
     "metadata": {},
     "output_type": "display_data"
    },
    {
     "data": {
      "text/markdown": [
       "<h4 id=\"Deck.move_cards\" class=\"doc_header\"><code>Deck.move_cards</code><a href=\"__main__.py#L57\" class=\"source_link\" style=\"float:right\">[source]</a></h4>\n",
       "\n",
       "> <code>Deck.move_cards</code>(**`hand`**, **`num`**)\n",
       "\n",
       "Moves the given number of cards from the deck into the Hand.\n",
       "hand: destination Hand object\n",
       "num: integer number of cards to move"
      ],
      "text/plain": [
       "<IPython.core.display.Markdown object>"
      ]
     },
     "metadata": {},
     "output_type": "display_data"
    }
   ],
   "source": [
    "show_doc(Deck.add_card)\n",
    "show_doc(Deck.remove_card)\n",
    "show_doc(Deck.pop_card)\n",
    "show_doc(Deck.shuffle)\n",
    "show_doc(Deck.sort)\n",
    "show_doc(Deck.move_cards)"
   ]
  },
  {
   "cell_type": "code",
   "execution_count": null,
   "metadata": {},
   "outputs": [],
   "source": [
    "#export\n",
    "class Hand(Deck):\n",
    "    \"\"\"Represents a hand of playing cards.\"\"\"\n",
    "    \n",
    "    def __init__(self, label=''):\n",
    "        self.cards = []\n",
    "        self.label = label\n",
    "\n",
    "    def __len__(self):\n",
    "        return len(self.cards)    "
   ]
  }
 ],
 "metadata": {
  "kernelspec": {
   "display_name": "Python 3",
   "language": "python",
   "name": "python3"
  }
 },
 "nbformat": 4,
 "nbformat_minor": 2
}
