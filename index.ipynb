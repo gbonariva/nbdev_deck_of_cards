{
 "cells": [
  {
   "cell_type": "markdown",
   "metadata": {},
   "source": [
    "# Deck of card\n",
    "\n",
    "> Following a tutorial on NBdev."
   ]
  },
  {
   "cell_type": "markdown",
   "metadata": {},
   "source": [
    "## Install"
   ]
  },
  {
   "cell_type": "code",
   "execution_count": null,
   "metadata": {},
   "outputs": [],
   "source": [
    "## pip install nbdev_deck_of_cards"
   ]
  },
  {
   "cell_type": "markdown",
   "metadata": {},
   "source": [
    "## How to use"
   ]
  },
  {
   "cell_type": "markdown",
   "metadata": {},
   "source": [
    "Some code examples:"
   ]
  },
  {
   "cell_type": "code",
   "execution_count": null,
   "metadata": {},
   "outputs": [],
   "source": [
    "from nbdev_deck_of_cards.core import *"
   ]
  },
  {
   "cell_type": "code",
   "execution_count": null,
   "metadata": {},
   "outputs": [],
   "source": [
    "deck = Deck()\n",
    "deck.shuffle()"
   ]
  },
  {
   "cell_type": "code",
   "execution_count": null,
   "metadata": {},
   "outputs": [
    {
     "data": {
      "text/plain": [
       "<nbdev_deck_of_cards.core.Deck at 0x21d1c4f2e20>"
      ]
     },
     "execution_count": null,
     "metadata": {},
     "output_type": "execute_result"
    }
   ],
   "source": [
    "deck"
   ]
  },
  {
   "cell_type": "code",
   "execution_count": null,
   "metadata": {},
   "outputs": [
    {
     "name": "stdout",
     "output_type": "stream",
     "text": [
      "Queen of Hearts\n",
      "10 of Clubs\n",
      "9 of Spades\n",
      "10 of Spades\n",
      "6 of Clubs\n",
      "9 of Hearts\n",
      "8 of Spades\n",
      "Jack of Spades\n",
      "6 of Spades\n",
      "King of Hearts\n",
      "Queen of Spades\n",
      "Jack of Hearts\n",
      "6 of Hearts\n",
      "King of Spades\n",
      "7 of Clubs\n",
      "8 of Hearts\n",
      "3 of Diamonds\n",
      "2 of Diamonds\n",
      "6 of Diamonds\n",
      "4 of Diamonds\n",
      "5 of Hearts\n",
      "3 of Hearts\n",
      "Ace of Clubs\n",
      "Jack of Diamonds\n",
      "7 of Diamonds\n",
      "Ace of Spades\n",
      "8 of Diamonds\n",
      "2 of Clubs\n",
      "5 of Clubs\n",
      "10 of Diamonds\n",
      "10 of Hearts\n",
      "3 of Clubs\n",
      "Jack of Clubs\n",
      "King of Diamonds\n",
      "8 of Clubs\n",
      "9 of Diamonds\n",
      "4 of Clubs\n",
      "7 of Spades\n",
      "4 of Spades\n",
      "Queen of Clubs\n",
      "Ace of Hearts\n",
      "2 of Spades\n",
      "King of Clubs\n",
      "7 of Hearts\n",
      "Ace of Diamonds\n",
      "5 of Diamonds\n",
      "2 of Hearts\n",
      "4 of Hearts\n",
      "9 of Clubs\n",
      "3 of Spades\n",
      "5 of Spades\n",
      "Queen of Diamonds\n"
     ]
    }
   ],
   "source": [
    "print(deck)"
   ]
  },
  {
   "cell_type": "code",
   "execution_count": null,
   "metadata": {},
   "outputs": [
    {
     "data": {
      "text/plain": [
       "52"
      ]
     },
     "execution_count": null,
     "metadata": {},
     "output_type": "execute_result"
    }
   ],
   "source": [
    "len(deck)"
   ]
  },
  {
   "cell_type": "code",
   "execution_count": null,
   "metadata": {},
   "outputs": [],
   "source": [
    "# Create one hand\n",
    "hand = Hand()"
   ]
  },
  {
   "cell_type": "code",
   "execution_count": null,
   "metadata": {},
   "outputs": [
    {
     "name": "stdout",
     "output_type": "stream",
     "text": [
      "9 of Clubs\n",
      "Queen of Diamonds\n",
      "4 of Hearts\n",
      "3 of Spades\n",
      "5 of Spades\n"
     ]
    }
   ],
   "source": [
    "# Deal 5 cards from deck\n",
    "deck.move_cards(hand, 5)\n",
    "hand.sort()\n",
    "print(hand)\n"
   ]
  },
  {
   "cell_type": "code",
   "execution_count": null,
   "metadata": {},
   "outputs": [
    {
     "data": {
      "text/plain": [
       "47"
      ]
     },
     "execution_count": null,
     "metadata": {},
     "output_type": "execute_result"
    }
   ],
   "source": [
    "len(deck)"
   ]
  },
  {
   "cell_type": "markdown",
   "metadata": {},
   "source": [
    "## Tests"
   ]
  },
  {
   "cell_type": "code",
   "execution_count": null,
   "metadata": {},
   "outputs": [],
   "source": [
    "c1 = Card(suit=2, rank=3)\n",
    "assert str(c1) == '3 of Hearts'"
   ]
  },
  {
   "cell_type": "code",
   "execution_count": null,
   "metadata": {},
   "outputs": [],
   "source": [
    "c2 = Card(suit=1, rank=13)\n",
    "assert(str(c2) == 'King of Diamonds')"
   ]
  },
  {
   "cell_type": "code",
   "execution_count": null,
   "metadata": {},
   "outputs": [],
   "source": [
    "c3 = Card(suit=1, rank=12)\n",
    "assert(str(c3) == 'Queen of Diamonds')"
   ]
  },
  {
   "cell_type": "code",
   "execution_count": null,
   "metadata": {},
   "outputs": [],
   "source": [
    "assert c1 > c2"
   ]
  },
  {
   "cell_type": "code",
   "execution_count": null,
   "metadata": {},
   "outputs": [],
   "source": [
    "assert c3 < c2"
   ]
  },
  {
   "cell_type": "code",
   "execution_count": null,
   "metadata": {},
   "outputs": [],
   "source": []
  }
 ],
 "metadata": {
  "kernelspec": {
   "display_name": "Python 3",
   "language": "python",
   "name": "python3"
  }
 },
 "nbformat": 4,
 "nbformat_minor": 2
}
